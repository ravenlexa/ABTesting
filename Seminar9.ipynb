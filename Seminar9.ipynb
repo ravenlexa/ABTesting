{
 "cells": [
  {
   "cell_type": "markdown",
   "metadata": {
    "id": "0X_tYu6U9czn"
   },
   "source": [
    "# Урок 9. Python применение продвинутых методов."
   ]
  },
  {
   "cell_type": "markdown",
   "metadata": {
    "id": "gah5LRh89olH"
   },
   "source": [
    "Проанализируйте результаты эксперимента и напишите свои рекомендации менеджеру.\n",
    "\n",
    "Mobile Games AB Testing with Cookie Cats."
   ]
  },
  {
   "cell_type": "code",
   "execution_count": 1,
   "metadata": {
    "colab": {
     "base_uri": "https://localhost:8080/",
     "height": 39
    },
    "id": "KT-3S3eH9yGm",
    "outputId": "72ce943a-1aa6-4611-ac0d-4f8ed693597f"
   },
   "outputs": [],
   "source": [
    "import pandas as pd"
   ]
  },
  {
   "cell_type": "code",
   "execution_count": 2,
   "metadata": {
    "id": "zdhlUwsMsG0O"
   },
   "outputs": [],
   "source": [
    "import matplotlib.pyplot as plt\n",
    "df = pd.read_csv('А_B - cookie_cats 2.csv')"
   ]
  },
  {
   "cell_type": "code",
   "execution_count": 3,
   "metadata": {
    "colab": {
     "base_uri": "https://localhost:8080/",
     "height": 206
    },
    "id": "HzcUhnlrIT_1",
    "outputId": "76e53011-42f6-4963-f977-bdb0349d8ae2"
   },
   "outputs": [
    {
     "data": {
      "text/html": [
       "<div>\n",
       "<style scoped>\n",
       "    .dataframe tbody tr th:only-of-type {\n",
       "        vertical-align: middle;\n",
       "    }\n",
       "\n",
       "    .dataframe tbody tr th {\n",
       "        vertical-align: top;\n",
       "    }\n",
       "\n",
       "    .dataframe thead th {\n",
       "        text-align: right;\n",
       "    }\n",
       "</style>\n",
       "<table border=\"1\" class=\"dataframe\">\n",
       "  <thead>\n",
       "    <tr style=\"text-align: right;\">\n",
       "      <th></th>\n",
       "      <th>userid</th>\n",
       "      <th>version</th>\n",
       "      <th>sum_gamerounds</th>\n",
       "      <th>retention_1</th>\n",
       "      <th>retention_7</th>\n",
       "    </tr>\n",
       "  </thead>\n",
       "  <tbody>\n",
       "    <tr>\n",
       "      <th>0</th>\n",
       "      <td>116</td>\n",
       "      <td>gate_30</td>\n",
       "      <td>3</td>\n",
       "      <td>0</td>\n",
       "      <td>0</td>\n",
       "    </tr>\n",
       "    <tr>\n",
       "      <th>1</th>\n",
       "      <td>337</td>\n",
       "      <td>gate_30</td>\n",
       "      <td>38</td>\n",
       "      <td>1</td>\n",
       "      <td>0</td>\n",
       "    </tr>\n",
       "    <tr>\n",
       "      <th>2</th>\n",
       "      <td>377</td>\n",
       "      <td>gate_40</td>\n",
       "      <td>165</td>\n",
       "      <td>1</td>\n",
       "      <td>0</td>\n",
       "    </tr>\n",
       "    <tr>\n",
       "      <th>3</th>\n",
       "      <td>483</td>\n",
       "      <td>gate_40</td>\n",
       "      <td>1</td>\n",
       "      <td>0</td>\n",
       "      <td>0</td>\n",
       "    </tr>\n",
       "    <tr>\n",
       "      <th>4</th>\n",
       "      <td>488</td>\n",
       "      <td>gate_40</td>\n",
       "      <td>179</td>\n",
       "      <td>1</td>\n",
       "      <td>1</td>\n",
       "    </tr>\n",
       "  </tbody>\n",
       "</table>\n",
       "</div>"
      ],
      "text/plain": [
       "   userid  version  sum_gamerounds  retention_1  retention_7\n",
       "0     116  gate_30               3            0            0\n",
       "1     337  gate_30              38            1            0\n",
       "2     377  gate_40             165            1            0\n",
       "3     483  gate_40               1            0            0\n",
       "4     488  gate_40             179            1            1"
      ]
     },
     "execution_count": 3,
     "metadata": {},
     "output_type": "execute_result"
    }
   ],
   "source": [
    "df.head()"
   ]
  },
  {
   "cell_type": "code",
   "execution_count": 4,
   "metadata": {
    "colab": {
     "base_uri": "https://localhost:8080/"
    },
    "id": "aFKmxa1nbsXf",
    "outputId": "90054ad3-1b21-42a5-e2f8-8349ba922157"
   },
   "outputs": [
    {
     "name": "stdout",
     "output_type": "stream",
     "text": [
      "<class 'pandas.core.frame.DataFrame'>\n",
      "RangeIndex: 90189 entries, 0 to 90188\n",
      "Data columns (total 5 columns):\n",
      " #   Column          Non-Null Count  Dtype \n",
      "---  ------          --------------  ----- \n",
      " 0   userid          90189 non-null  int64 \n",
      " 1   version         90189 non-null  object\n",
      " 2   sum_gamerounds  90189 non-null  int64 \n",
      " 3   retention_1     90189 non-null  int64 \n",
      " 4   retention_7     90189 non-null  int64 \n",
      "dtypes: int64(4), object(1)\n",
      "memory usage: 3.4+ MB\n"
     ]
    }
   ],
   "source": [
    "df.info()"
   ]
  },
  {
   "cell_type": "code",
   "execution_count": 5,
   "metadata": {
    "colab": {
     "base_uri": "https://localhost:8080/",
     "height": 300
    },
    "id": "roVD_fZZFiiJ",
    "outputId": "aec357f6-8863-42a0-dbaa-5dd8b9375306"
   },
   "outputs": [
    {
     "data": {
      "text/html": [
       "<div>\n",
       "<style scoped>\n",
       "    .dataframe tbody tr th:only-of-type {\n",
       "        vertical-align: middle;\n",
       "    }\n",
       "\n",
       "    .dataframe tbody tr th {\n",
       "        vertical-align: top;\n",
       "    }\n",
       "\n",
       "    .dataframe thead th {\n",
       "        text-align: right;\n",
       "    }\n",
       "</style>\n",
       "<table border=\"1\" class=\"dataframe\">\n",
       "  <thead>\n",
       "    <tr style=\"text-align: right;\">\n",
       "      <th></th>\n",
       "      <th>userid</th>\n",
       "      <th>sum_gamerounds</th>\n",
       "      <th>retention_1</th>\n",
       "      <th>retention_7</th>\n",
       "    </tr>\n",
       "  </thead>\n",
       "  <tbody>\n",
       "    <tr>\n",
       "      <th>count</th>\n",
       "      <td>9.018900e+04</td>\n",
       "      <td>90189.000000</td>\n",
       "      <td>90189.000000</td>\n",
       "      <td>90189.000000</td>\n",
       "    </tr>\n",
       "    <tr>\n",
       "      <th>mean</th>\n",
       "      <td>4.998412e+06</td>\n",
       "      <td>51.872457</td>\n",
       "      <td>0.445210</td>\n",
       "      <td>0.186065</td>\n",
       "    </tr>\n",
       "    <tr>\n",
       "      <th>std</th>\n",
       "      <td>2.883286e+06</td>\n",
       "      <td>195.050858</td>\n",
       "      <td>0.496992</td>\n",
       "      <td>0.389161</td>\n",
       "    </tr>\n",
       "    <tr>\n",
       "      <th>min</th>\n",
       "      <td>1.160000e+02</td>\n",
       "      <td>0.000000</td>\n",
       "      <td>0.000000</td>\n",
       "      <td>0.000000</td>\n",
       "    </tr>\n",
       "    <tr>\n",
       "      <th>25%</th>\n",
       "      <td>2.512230e+06</td>\n",
       "      <td>5.000000</td>\n",
       "      <td>0.000000</td>\n",
       "      <td>0.000000</td>\n",
       "    </tr>\n",
       "    <tr>\n",
       "      <th>50%</th>\n",
       "      <td>4.995815e+06</td>\n",
       "      <td>16.000000</td>\n",
       "      <td>0.000000</td>\n",
       "      <td>0.000000</td>\n",
       "    </tr>\n",
       "    <tr>\n",
       "      <th>75%</th>\n",
       "      <td>7.496452e+06</td>\n",
       "      <td>51.000000</td>\n",
       "      <td>1.000000</td>\n",
       "      <td>0.000000</td>\n",
       "    </tr>\n",
       "    <tr>\n",
       "      <th>max</th>\n",
       "      <td>9.999861e+06</td>\n",
       "      <td>49854.000000</td>\n",
       "      <td>1.000000</td>\n",
       "      <td>1.000000</td>\n",
       "    </tr>\n",
       "  </tbody>\n",
       "</table>\n",
       "</div>"
      ],
      "text/plain": [
       "             userid  sum_gamerounds   retention_1   retention_7\n",
       "count  9.018900e+04    90189.000000  90189.000000  90189.000000\n",
       "mean   4.998412e+06       51.872457      0.445210      0.186065\n",
       "std    2.883286e+06      195.050858      0.496992      0.389161\n",
       "min    1.160000e+02        0.000000      0.000000      0.000000\n",
       "25%    2.512230e+06        5.000000      0.000000      0.000000\n",
       "50%    4.995815e+06       16.000000      0.000000      0.000000\n",
       "75%    7.496452e+06       51.000000      1.000000      0.000000\n",
       "max    9.999861e+06    49854.000000      1.000000      1.000000"
      ]
     },
     "execution_count": 5,
     "metadata": {},
     "output_type": "execute_result"
    }
   ],
   "source": [
    "df.describe()"
   ]
  },
  {
   "cell_type": "code",
   "execution_count": 6,
   "metadata": {
    "colab": {
     "base_uri": "https://localhost:8080/"
    },
    "id": "Hx5rZp2RGbds",
    "outputId": "83910ee8-c1a6-4b77-f977-e0fbaf15bfbb"
   },
   "outputs": [
    {
     "data": {
      "text/plain": [
       "array(['gate_30', 'gate_40'], dtype=object)"
      ]
     },
     "execution_count": 6,
     "metadata": {},
     "output_type": "execute_result"
    }
   ],
   "source": [
    "df.version.unique()"
   ]
  },
  {
   "cell_type": "code",
   "execution_count": 7,
   "metadata": {
    "colab": {
     "base_uri": "https://localhost:8080/",
     "height": 206
    },
    "id": "w5vMy7snJItw",
    "outputId": "bb7542c3-7d50-4b25-917a-b7d85ac72e91"
   },
   "outputs": [
    {
     "data": {
      "text/html": [
       "<div>\n",
       "<style scoped>\n",
       "    .dataframe tbody tr th:only-of-type {\n",
       "        vertical-align: middle;\n",
       "    }\n",
       "\n",
       "    .dataframe tbody tr th {\n",
       "        vertical-align: top;\n",
       "    }\n",
       "\n",
       "    .dataframe thead th {\n",
       "        text-align: right;\n",
       "    }\n",
       "</style>\n",
       "<table border=\"1\" class=\"dataframe\">\n",
       "  <thead>\n",
       "    <tr style=\"text-align: right;\">\n",
       "      <th></th>\n",
       "      <th>userid</th>\n",
       "      <th>version</th>\n",
       "      <th>sum_gamerounds</th>\n",
       "      <th>retention_1</th>\n",
       "      <th>retention_7</th>\n",
       "    </tr>\n",
       "  </thead>\n",
       "  <tbody>\n",
       "    <tr>\n",
       "      <th>57702</th>\n",
       "      <td>6390605</td>\n",
       "      <td>gate_30</td>\n",
       "      <td>49854</td>\n",
       "      <td>0</td>\n",
       "      <td>1</td>\n",
       "    </tr>\n",
       "    <tr>\n",
       "      <th>7912</th>\n",
       "      <td>871500</td>\n",
       "      <td>gate_30</td>\n",
       "      <td>2961</td>\n",
       "      <td>1</td>\n",
       "      <td>1</td>\n",
       "    </tr>\n",
       "    <tr>\n",
       "      <th>29417</th>\n",
       "      <td>3271615</td>\n",
       "      <td>gate_40</td>\n",
       "      <td>2640</td>\n",
       "      <td>1</td>\n",
       "      <td>0</td>\n",
       "    </tr>\n",
       "    <tr>\n",
       "      <th>43671</th>\n",
       "      <td>4832608</td>\n",
       "      <td>gate_30</td>\n",
       "      <td>2438</td>\n",
       "      <td>1</td>\n",
       "      <td>1</td>\n",
       "    </tr>\n",
       "    <tr>\n",
       "      <th>48188</th>\n",
       "      <td>5346171</td>\n",
       "      <td>gate_40</td>\n",
       "      <td>2294</td>\n",
       "      <td>1</td>\n",
       "      <td>1</td>\n",
       "    </tr>\n",
       "  </tbody>\n",
       "</table>\n",
       "</div>"
      ],
      "text/plain": [
       "        userid  version  sum_gamerounds  retention_1  retention_7\n",
       "57702  6390605  gate_30           49854            0            1\n",
       "7912    871500  gate_30            2961            1            1\n",
       "29417  3271615  gate_40            2640            1            0\n",
       "43671  4832608  gate_30            2438            1            1\n",
       "48188  5346171  gate_40            2294            1            1"
      ]
     },
     "execution_count": 7,
     "metadata": {},
     "output_type": "execute_result"
    }
   ],
   "source": [
    "df.nlargest(5, ['sum_gamerounds'])"
   ]
  },
  {
   "cell_type": "code",
   "execution_count": 8,
   "metadata": {
    "id": "PFkSlo-wKC0Z"
   },
   "outputs": [],
   "source": [
    "# Удаляем выброс\n",
    "df = df[df.sum_gamerounds < 3000]"
   ]
  },
  {
   "cell_type": "code",
   "execution_count": 9,
   "metadata": {
    "colab": {
     "base_uri": "https://localhost:8080/",
     "height": 300
    },
    "id": "4LEonfQ6Kfki",
    "outputId": "3cd6504a-fe7f-4736-bf91-a9af2d717e91"
   },
   "outputs": [
    {
     "data": {
      "text/html": [
       "<div>\n",
       "<style scoped>\n",
       "    .dataframe tbody tr th:only-of-type {\n",
       "        vertical-align: middle;\n",
       "    }\n",
       "\n",
       "    .dataframe tbody tr th {\n",
       "        vertical-align: top;\n",
       "    }\n",
       "\n",
       "    .dataframe thead th {\n",
       "        text-align: right;\n",
       "    }\n",
       "</style>\n",
       "<table border=\"1\" class=\"dataframe\">\n",
       "  <thead>\n",
       "    <tr style=\"text-align: right;\">\n",
       "      <th></th>\n",
       "      <th>userid</th>\n",
       "      <th>sum_gamerounds</th>\n",
       "      <th>retention_1</th>\n",
       "      <th>retention_7</th>\n",
       "    </tr>\n",
       "  </thead>\n",
       "  <tbody>\n",
       "    <tr>\n",
       "      <th>count</th>\n",
       "      <td>9.018800e+04</td>\n",
       "      <td>90188.000000</td>\n",
       "      <td>90188.000000</td>\n",
       "      <td>90188.000000</td>\n",
       "    </tr>\n",
       "    <tr>\n",
       "      <th>mean</th>\n",
       "      <td>4.998397e+06</td>\n",
       "      <td>51.320253</td>\n",
       "      <td>0.445214</td>\n",
       "      <td>0.186056</td>\n",
       "    </tr>\n",
       "    <tr>\n",
       "      <th>std</th>\n",
       "      <td>2.883298e+06</td>\n",
       "      <td>102.682719</td>\n",
       "      <td>0.496992</td>\n",
       "      <td>0.389154</td>\n",
       "    </tr>\n",
       "    <tr>\n",
       "      <th>min</th>\n",
       "      <td>1.160000e+02</td>\n",
       "      <td>0.000000</td>\n",
       "      <td>0.000000</td>\n",
       "      <td>0.000000</td>\n",
       "    </tr>\n",
       "    <tr>\n",
       "      <th>25%</th>\n",
       "      <td>2.512211e+06</td>\n",
       "      <td>5.000000</td>\n",
       "      <td>0.000000</td>\n",
       "      <td>0.000000</td>\n",
       "    </tr>\n",
       "    <tr>\n",
       "      <th>50%</th>\n",
       "      <td>4.995804e+06</td>\n",
       "      <td>16.000000</td>\n",
       "      <td>0.000000</td>\n",
       "      <td>0.000000</td>\n",
       "    </tr>\n",
       "    <tr>\n",
       "      <th>75%</th>\n",
       "      <td>7.496461e+06</td>\n",
       "      <td>51.000000</td>\n",
       "      <td>1.000000</td>\n",
       "      <td>0.000000</td>\n",
       "    </tr>\n",
       "    <tr>\n",
       "      <th>max</th>\n",
       "      <td>9.999861e+06</td>\n",
       "      <td>2961.000000</td>\n",
       "      <td>1.000000</td>\n",
       "      <td>1.000000</td>\n",
       "    </tr>\n",
       "  </tbody>\n",
       "</table>\n",
       "</div>"
      ],
      "text/plain": [
       "             userid  sum_gamerounds   retention_1   retention_7\n",
       "count  9.018800e+04    90188.000000  90188.000000  90188.000000\n",
       "mean   4.998397e+06       51.320253      0.445214      0.186056\n",
       "std    2.883298e+06      102.682719      0.496992      0.389154\n",
       "min    1.160000e+02        0.000000      0.000000      0.000000\n",
       "25%    2.512211e+06        5.000000      0.000000      0.000000\n",
       "50%    4.995804e+06       16.000000      0.000000      0.000000\n",
       "75%    7.496461e+06       51.000000      1.000000      0.000000\n",
       "max    9.999861e+06     2961.000000      1.000000      1.000000"
      ]
     },
     "execution_count": 9,
     "metadata": {},
     "output_type": "execute_result"
    }
   ],
   "source": [
    "df.describe()"
   ]
  },
  {
   "cell_type": "code",
   "execution_count": 10,
   "metadata": {
    "colab": {
     "base_uri": "https://localhost:8080/"
    },
    "id": "XUYvDZnbKlQ5",
    "outputId": "58002b7b-8343-4f6b-ae92-4b79fa1e605d"
   },
   "outputs": [
    {
     "name": "stdout",
     "output_type": "stream",
     "text": [
      "version\n",
      "False    45489\n",
      "True     44699\n",
      "Name: version, dtype: int64\n",
      "version\n",
      "False    44699\n",
      "True     45489\n",
      "Name: version, dtype: int64\n"
     ]
    }
   ],
   "source": [
    "# Определим размеры выборок для проверки, что сравнение статистически обосновано.\n",
    "# Сравним версии gate_30 и gate_40.\n",
    "A = df.version.groupby(df.version == 'gate_30').count()\n",
    "B = df.version.groupby(df.version == 'gate_40').count()\n",
    "print(A)\n",
    "print(B)"
   ]
  },
  {
   "cell_type": "markdown",
   "metadata": {
    "id": "nbjfZu1ENh4i"
   },
   "source": [
    "Число версий примерно одинаковы.  \n",
    "Версия gate_30 будит называться контрольной группой A.  \n",
    "Версия gate_40 будит называться тестовой группой B."
   ]
  },
  {
   "cell_type": "code",
   "execution_count": 11,
   "metadata": {
    "id": "JUtBi3zHMfF2"
   },
   "outputs": [],
   "source": [
    "from scipy.stats import mannwhitneyu\n",
    "from scipy.stats import ttest_ind"
   ]
  },
  {
   "cell_type": "code",
   "execution_count": 12,
   "metadata": {
    "colab": {
     "base_uri": "https://localhost:8080/"
    },
    "id": "uy-rttdAOPK6",
    "outputId": "62330e1d-b798-4663-894d-348078544685"
   },
   "outputs": [
    {
     "data": {
      "text/plain": [
       "MannwhitneyuResult(statistic=1024285761.5, pvalue=0.05089155279145376)"
      ]
     },
     "execution_count": 12,
     "metadata": {},
     "output_type": "execute_result"
    }
   ],
   "source": [
    "mannwhitneyu(df[df.version == 'gate_30'].sum_gamerounds,\n",
    "             df[df.version == 'gate_40'].sum_gamerounds)"
   ]
  },
  {
   "cell_type": "markdown",
   "metadata": {
    "id": "FzjIoV5oR40_"
   },
   "source": [
    "pvalue очень блиско к 0.05 соответственно этого теста будит не достаточно для принятия решения."
   ]
  },
  {
   "cell_type": "code",
   "execution_count": 13,
   "metadata": {
    "colab": {
     "base_uri": "https://localhost:8080/"
    },
    "id": "zOI-1oL3Ooiw",
    "outputId": "369227d6-3fad-4679-e6f9-3c55938c0f25"
   },
   "outputs": [
    {
     "data": {
      "text/plain": [
       "TtestResult(statistic=0.0633675766982082, pvalue=0.9494739458256001, df=90186.0)"
      ]
     },
     "execution_count": 13,
     "metadata": {},
     "output_type": "execute_result"
    }
   ],
   "source": [
    "ttest_ind(df[df.version == 'gate_30'].sum_gamerounds,\n",
    "          df[df.version == 'gate_40'].sum_gamerounds)"
   ]
  },
  {
   "cell_type": "code",
   "execution_count": 14,
   "metadata": {
    "colab": {
     "base_uri": "https://localhost:8080/"
    },
    "id": "U1L8EJGyP4FH",
    "outputId": "486d2358-0683-4506-8df4-e532bce7da6f"
   },
   "outputs": [
    {
     "name": "stdout",
     "output_type": "stream",
     "text": [
      "KstestResult(statistic=0.8724153079945488, pvalue=0.0, statistic_location=2, statistic_sign=-1)\n",
      "KstestResult(statistic=0.8707186187388001, pvalue=0.0, statistic_location=2, statistic_sign=-1)\n"
     ]
    }
   ],
   "source": [
    "from scipy.stats import kstest\n",
    "print(kstest(df['sum_gamerounds'][df.version == 'gate_30'], 'norm'))\n",
    "print(kstest(df['sum_gamerounds'][df.version == 'gate_40'], 'norm'))"
   ]
  },
  {
   "cell_type": "markdown",
   "metadata": {
    "id": "taOUKoALRovZ"
   },
   "source": [
    "Распределение не нормальное."
   ]
  },
  {
   "cell_type": "code",
   "execution_count": 15,
   "metadata": {
    "colab": {
     "base_uri": "https://localhost:8080/",
     "height": 313
    },
    "id": "l-gawGT6QmHP",
    "outputId": "87a49cfc-22ff-4037-e415-4246a1221253"
   },
   "outputs": [
    {
     "data": {
      "text/plain": [
       "Text(0.5, 1.0, 'Number of game rounds players on the first week')"
      ]
     },
     "execution_count": 15,
     "metadata": {},
     "output_type": "execute_result"
    },
    {
     "data": {
      "image/png": "[encoded data removed]",
      "text/plain": [
       "<Figure size 640x480 with 1 Axes>"
      ]
     },
     "metadata": {},
     "output_type": "display_data"
    }
   ],
   "source": [
    "# Найдем сколько пользователь играет\n",
    "plot_df = df.groupby('sum_gamerounds').count()\n",
    "\n",
    "ax = plot_df[:100].plot()\n",
    "ax.set_xlabel('Total game rounds')\n",
    "ax.set_ylabel('Number of players')\n",
    "ax.set_title('Number of game rounds players on the first week')"
   ]
  },
  {
   "cell_type": "markdown",
   "metadata": {
    "id": "Gu0vblbkVHaC"
   },
   "source": [
    "График показывает, что большенство пользователей играет менее 20 раундов."
   ]
  },
  {
   "cell_type": "markdown",
   "metadata": {
    "id": "ZrcZyLQeWZk0"
   },
   "source": [
    "Построим гистограммный график различных распределений групп AB.  \n",
    "Чтобы получить более детальное представление о низкой и высокой активности пользователей изменим наше распределение выборок."
   ]
  },
  {
   "cell_type": "code",
   "execution_count": 16,
   "metadata": {
    "colab": {
     "base_uri": "https://localhost:8080/"
    },
    "id": "3ONr-aAPT8FO",
    "outputId": "62a6b6d7-abfe-43e7-823d-2e3a7254794c"
   },
   "outputs": [
    {
     "name": "stdout",
     "output_type": "stream",
     "text": [
      "    userid  version  sum_gamerounds  retention_1  retention_7\n",
      "0      116  gate_30               3            0            0\n",
      "1      337  gate_30              38            1            0\n",
      "6     1066  gate_30               0            0            0\n",
      "11    2101  gate_30               0            0            0\n",
      "13    2179  gate_30              39            1            0\n",
      "   userid  version  sum_gamerounds  retention_1  retention_7\n",
      "2     377  gate_40             165            1            0\n",
      "3     483  gate_40               1            0            0\n",
      "4     488  gate_40             179            1            1\n",
      "5     540  gate_40             187            1            1\n",
      "7    1444  gate_40               2            0            0\n"
     ]
    }
   ],
   "source": [
    "plt.style.use('ggplot')\n",
    "\n",
    "Group_A = df[df.version == 'gate_30']\n",
    "print(Group_A.head())\n",
    "\n",
    "Group_B = df[df.version == 'gate_40']\n",
    "print(Group_B.head())\n",
    "\n",
    "bins = [0, 1, 10, 20, 30, 40, 50, 60, 70, 80, 90, 100, 200, 500]\n",
    "plot_GA = pd.DataFrame(Group_A.groupby(pd.cut(Group_A['sum_gamerounds'],\n",
    "                                              bins=bins)).count())\n",
    "plot_GB = pd.DataFrame(Group_B.groupby(pd.cut(Group_B['sum_gamerounds'],\n",
    "                                              bins=bins)).count())"
   ]
  },
  {
   "cell_type": "code",
   "execution_count": 17,
   "metadata": {
    "colab": {
     "base_uri": "https://localhost:8080/",
     "height": 297
    },
    "id": "Lvi6sn8WZCBX",
    "outputId": "91dd4f7e-1e95-4c0b-c604-22da8d12eaac"
   },
   "outputs": [
    {
     "data": {
      "image/png": "[encoded data removed]",
      "text/plain": [
       "<Figure size 640x480 with 1 Axes>"
      ]
     },
     "metadata": {},
     "output_type": "display_data"
    }
   ],
   "source": [
    "ax = plot_GA.plot(kind = 'bar', y='userid', color = 'blue', alpha = 1,\n",
    "                  title = 'Total usage by groups')\n",
    "plot_GB.plot(kind = 'bar', y = 'userid', ax = ax, color = 'red', alpha = 0.7)\n",
    "ax.set_xlabel('Total game rounds')\n",
    "ax.set_ylabel('Number of players')\n",
    "plt.legend(['Group A', 'Group B'])\n",
    "plt.tight_layout()\n",
    "plt.grid(True)"
   ]
  },
  {
   "cell_type": "markdown",
   "metadata": {
    "id": "zZlHCB0qbjOs"
   },
   "source": [
    "Гафик показывает, что между двумя версиями вообщем нет большой разници.  \n",
    "Небольшие различия есть в пределах 30 - 40 сыгранных раундов."
   ]
  },
  {
   "cell_type": "markdown",
   "metadata": {
    "id": "XqzIRn3Uc9Vc"
   },
   "source": [
    "Посмотрим какое удержание в течении 1 дня."
   ]
  },
  {
   "cell_type": "code",
   "execution_count": 23,
   "metadata": {
    "colab": {
     "base_uri": "https://localhost:8080/"
    },
    "id": "uL_YOI0xbTEW",
    "outputId": "bf3d707d-6a8a-4fe1-928d-4d4db313ef01"
   },
   "outputs": [
    {
     "name": "stdout",
     "output_type": "stream",
     "text": [
      "44.521444094558035%\n"
     ]
    }
   ],
   "source": [
    "oneday = df.retention_1.sum()/df.retention_1.count()\n",
    "print(str(oneday*100)+'%')"
   ]
  },
  {
   "cell_type": "markdown",
   "metadata": {
    "id": "xCTeBY6bdnXJ"
   },
   "source": [
    "Посмотрим какое удержание в течении 1 дня для групп."
   ]
  },
  {
   "cell_type": "code",
   "execution_count": 24,
   "metadata": {
    "colab": {
     "base_uri": "https://localhost:8080/"
    },
    "id": "oYMzd3WFdXo0",
    "outputId": "56027230-8bbb-4199-958c-89147297988b"
   },
   "outputs": [
    {
     "name": "stdout",
     "output_type": "stream",
     "text": [
      "version\n",
      "gate_30    44.819795\n",
      "gate_40    44.228275\n",
      "Name: retention_1, dtype: float64\n"
     ]
    }
   ],
   "source": [
    "oneday = df.retention_1.groupby(df.version).sum()/df.retention_1.groupby(df.version).count()\n",
    "print(oneday*100)"
   ]
  },
  {
   "cell_type": "markdown",
   "metadata": {
    "id": "KomlHqSGgfUc"
   },
   "source": [
    "Обе версии имеют практически одинаковые результаты.  \n",
    "Четково ответа стоит ли применять изменение мы не получили.  \n",
    "Для принятия решения воспользуемся Bootstrapp для более детального иследования."
   ]
  },
  {
   "cell_type": "code",
   "execution_count": 25,
   "metadata": {
    "colab": {
     "base_uri": "https://localhost:8080/"
    },
    "id": "eaQky-l-eNwU",
    "outputId": "bae3ac6b-e10f-4c8c-ef5c-e877675f03fa"
   },
   "outputs": [
    {
     "name": "stdout",
     "output_type": "stream",
     "text": [
      "version       gate_30   gate_40\n",
      "retention_1  0.448051  0.440890\n",
      "retention_1  0.446812  0.445775\n",
      "retention_1  0.444437  0.440454\n",
      "retention_1  0.448051  0.445103\n",
      "retention_1  0.448271  0.441377\n",
      "...               ...       ...\n",
      "retention_1  0.444727  0.443074\n",
      "retention_1  0.448406  0.443825\n",
      "retention_1  0.443060  0.446332\n",
      "retention_1  0.448642  0.442604\n",
      "retention_1  0.450609  0.442730\n",
      "\n",
      "[500 rows x 2 columns]\n"
     ]
    }
   ],
   "source": [
    "boot_1d = []\n",
    "for i in range(500):\n",
    "  boot_mean = df.retention_1.sample(frac=1, replace=True).groupby(df.version).mean()\n",
    "  boot_1d.append(boot_mean)\n",
    "\n",
    "boot_1d = pd.DataFrame(boot_1d)\n",
    "print(boot_1d)"
   ]
  },
  {
   "cell_type": "code",
   "execution_count": 26,
   "metadata": {
    "colab": {
     "base_uri": "https://localhost:8080/",
     "height": 317
    },
    "id": "01978HwWijA-",
    "outputId": "0929da5a-b744-4c46-f8b8-80df17d22820"
   },
   "outputs": [
    {
     "data": {
      "text/plain": [
       "Text(0.5, 0, 'The average of 1-day retention')"
      ]
     },
     "execution_count": 26,
     "metadata": {},
     "output_type": "execute_result"
    },
    {
     "data": {
      "image/png": "[encoded data removed]",
      "text/plain": [
       "<Figure size 640x480 with 1 Axes>"
      ]
     },
     "metadata": {},
     "output_type": "display_data"
    }
   ],
   "source": [
    "ax = boot_1d.plot.kde()\n",
    "ax.set_title('The average of 1-day retention for each AB group')\n",
    "ax.set_xlabel('The average of 1-day retention')"
   ]
  },
  {
   "cell_type": "markdown",
   "metadata": {
    "id": "VRRh0E5bjrEU"
   },
   "source": [
    "Увеличим разницу в удержании в течение 1 дня."
   ]
  },
  {
   "cell_type": "code",
   "execution_count": 27,
   "metadata": {
    "colab": {
     "base_uri": "https://localhost:8080/",
     "height": 317
    },
    "id": "5wqrErY2jLhM",
    "outputId": "0ad971fb-e230-4d22-edf6-85370198c012"
   },
   "outputs": [
    {
     "data": {
      "text/plain": [
       "Text(0.5, 1.0, 'Zooming % difference')"
      ]
     },
     "execution_count": 27,
     "metadata": {},
     "output_type": "execute_result"
    },
    {
     "data": {
      "image/png": "[encoded data removed]",
      "text/plain": [
       "<Figure size 640x480 with 1 Axes>"
      ]
     },
     "metadata": {},
     "output_type": "display_data"
    }
   ],
   "source": [
    "boot_1d['difference'] = (boot_1d['gate_30'] - boot_1d['gate_40']) / boot_1d['gate_40']*100\n",
    "\n",
    "ax = boot_1d['difference'].plot.kde()\n",
    "ax.set_xlabel('% Difference for 1-day retention by AB-group')\n",
    "ax.set_title('Zooming % difference')"
   ]
  },
  {
   "cell_type": "markdown",
   "metadata": {
    "id": "bB-ree0JlYJZ"
   },
   "source": [
    "Из графика видно, что наиболее вероятная разница 1-2% в пользу ворот на 30 уровне."
   ]
  },
  {
   "cell_type": "markdown",
   "metadata": {
    "id": "bmfhiBsQmh8B"
   },
   "source": [
    "Посчитаем в скольки процентах случаев разница больше 0."
   ]
  },
  {
   "cell_type": "code",
   "execution_count": 28,
   "metadata": {
    "colab": {
     "base_uri": "https://localhost:8080/"
    },
    "id": "HIy10X01k7cN",
    "outputId": "6efb9090-6e8f-4ee9-d9c8-decfeeb7bb60"
   },
   "outputs": [
    {
     "name": "stdout",
     "output_type": "stream",
     "text": [
      "95.8%\n"
     ]
    }
   ],
   "source": [
    "prob = (boot_1d['difference'] > 0).sum() / len(boot_1d['difference'])\n",
    "print(str(prob*100)+'%')"
   ]
  },
  {
   "cell_type": "markdown",
   "metadata": {
    "id": "soTioQlPnET1"
   },
   "source": [
    "Вывод:  \n",
    "Существует высокая вероятность того, что удержание в течении 1 дня лучше, когда ворота находятся на уровне 30."
   ]
  },
  {
   "cell_type": "markdown",
   "metadata": {
    "id": "Nf4__W88oMFu"
   },
   "source": [
    "Дальше расчитае удержание в течении 7 дней для двух AB групп."
   ]
  },
  {
   "cell_type": "code",
   "execution_count": 29,
   "metadata": {
    "colab": {
     "base_uri": "https://localhost:8080/"
    },
    "id": "q5Z_xacQmYYP",
    "outputId": "aab062b6-cf65-4f91-f732-dcc56939e870"
   },
   "outputs": [
    {
     "data": {
      "text/plain": [
       "version\n",
       "gate_30    0.190183\n",
       "gate_40    0.182000\n",
       "Name: retention_7, dtype: float64"
      ]
     },
     "execution_count": 29,
     "metadata": {},
     "output_type": "execute_result"
    }
   ],
   "source": [
    "df.groupby('version')['retention_7'].sum() / df.groupby('version')['retention_7'].count()"
   ]
  },
  {
   "cell_type": "markdown",
   "metadata": {
    "id": "jQvfOIyBpKuX"
   },
   "source": [
    "Здесь так же процент удержания выше у gate_30."
   ]
  },
  {
   "cell_type": "markdown",
   "metadata": {
    "id": "v9iQfBBlpkFG"
   },
   "source": [
    "Для более точного расчета воспользуемся bootstrap-анализом."
   ]
  },
  {
   "cell_type": "code",
   "execution_count": 30,
   "metadata": {
    "colab": {
     "base_uri": "https://localhost:8080/"
    },
    "id": "J50glviKoqCx",
    "outputId": "cec82611-9d29-4bce-be2e-8840732324c0"
   },
   "outputs": [
    {
     "name": "stdout",
     "output_type": "stream",
     "text": [
      "version       gate_30   gate_40\n",
      "retention_7  0.187232  0.182008\n",
      "retention_7  0.190687  0.181441\n",
      "retention_7  0.189803  0.184727\n",
      "retention_7  0.189238  0.183962\n",
      "retention_7  0.191894  0.186907\n"
     ]
    }
   ],
   "source": [
    "boot_7d = []\n",
    "for i in range(500):\n",
    "  boot_mean = df.retention_7.sample(frac=1, replace=True).groupby(df.version).mean()\n",
    "  boot_7d.append(boot_mean)\n",
    "\n",
    "boot_7d = pd.DataFrame(boot_7d)\n",
    "print(boot_7d.head())\n",
    "\n",
    "boot_7d['diff'] = (boot_7d['gate_30'] - boot_7d['gate_40']) / boot_7d['gate_40'] * 100"
   ]
  },
  {
   "cell_type": "code",
   "execution_count": 31,
   "metadata": {
    "colab": {
     "base_uri": "https://localhost:8080/",
     "height": 317
    },
    "id": "oYOyfbDGrF8x",
    "outputId": "16455b21-5ac9-45c8-8a3a-787caa7b7a05"
   },
   "outputs": [
    {
     "name": "stdout",
     "output_type": "stream",
     "text": [
      "0.998\n"
     ]
    },
    {
     "data": {
      "image/png": "[encoded data removed]",
      "text/plain": [
       "<Figure size 640x480 with 1 Axes>"
      ]
     },
     "metadata": {},
     "output_type": "display_data"
    }
   ],
   "source": [
    "ax = boot_7d['diff'].plot.kde()\n",
    "ax.set_xlabel('% difference in means')\n",
    "ax.set_title('% difference distribution for 7 days')\n",
    "\n",
    "prob = (boot_7d['diff'] > 0).sum() / len(boot_7d['diff'])\n",
    "\n",
    "print(prob)"
   ]
  },
  {
   "cell_type": "code",
   "execution_count": 32,
   "metadata": {
    "colab": {
     "base_uri": "https://localhost:8080/"
    },
    "id": "41R6y8Z9uCUt",
    "outputId": "0e096fba-87ba-48e0-85ce-f00d82bf64c7"
   },
   "outputs": [
    {
     "name": "stdout",
     "output_type": "stream",
     "text": [
      "99.8%\n"
     ]
    }
   ],
   "source": [
    "prob = (boot_7d['diff'] > 0).sum() / len(boot_7d['diff'])\n",
    "print(str(prob*100)+'%')"
   ]
  },
  {
   "cell_type": "markdown",
   "metadata": {
    "id": "VHs3LkbQsfOq"
   },
   "source": [
    "Вывод:  \n",
    "Наши иследования показали, что удержание в течении 7 дней выше, когда ворота ноходятся на уровне 30. Следовательно для удержания аудитории не рекомендуется перемещать варота с 30 уровня на 40."
   ]
  }
 ],
 "metadata": {
  "colab": {
   "authorship_tag": "ABX9TyNawvCBG7a+XBx6WEpf9Xo0",
   "include_colab_link": true,
   "mount_file_id": "1e7cy5DvrxbHWXRxohH-XnFGQpDMeyUL8",
   "provenance": []
  },
  "kernelspec": {
   "display_name": "Python 3 (ipykernel)",
   "language": "python",
   "name": "python3"
  },
  "language_info": {
   "codemirror_mode": {
    "name": "ipython",
    "version": 3
   },
   "file_extension": ".py",
   "mimetype": "text/x-python",
   "name": "python",
   "nbconvert_exporter": "python",
   "pygments_lexer": "ipython3",
   "version": "3.10.11"
  }
 },
 "nbformat": 4,
 "nbformat_minor": 1
}
